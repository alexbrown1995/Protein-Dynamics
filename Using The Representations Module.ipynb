{
 "cells": [
  {
   "cell_type": "markdown",
   "metadata": {},
   "source": [
    "# Exploring the Data with representations.py"
   ]
  },
  {
   "cell_type": "code",
   "execution_count": 6,
   "metadata": {},
   "outputs": [],
   "source": [
    "import representations as rep\n",
    "import protein as pt"
   ]
  },
  {
   "cell_type": "code",
   "execution_count": 7,
   "metadata": {},
   "outputs": [
    {
     "name": "stdout",
     "output_type": "stream",
     "text": [
      "Protein:\n",
      "NcapD49 D49_j1_D81 D81 D81 CcapD81\n",
      "\n",
      "Parameter    Mean       Range             Data Points\n",
      "Length 1     14.141     (14.100,14.202)   100       \n",
      "Length 2     15.743     (15.712,15.780)   100       \n",
      "Length 3     28.983     (26.942,29.546)   200       \n",
      "Length 4     28.108     (27.279,29.035)   200       \n",
      "Length 5     24.986     (22.180,33.806)   500       \n",
      "Length 6     21.168     (20.003,22.916)   500       \n",
      "Length 7     23.196     (22.793,23.545)   400       \n",
      "Length 8     20.012     (19.491,20.643)   400       \n",
      "Length 9     20.083     (18.912,20.679)   300       \n",
      "Length 10    17.963     (17.295,19.144)   300       \n",
      "Angle 1      0.440      ( 0.438, 0.442)   100       \n",
      "Angle 2      1.421      ( 1.404, 1.442)   100       \n",
      "Angle 3      2.887      ( 2.843, 3.041)   200       \n",
      "Angle 4      1.278      ( 1.238, 1.313)   200       \n",
      "Angle 5      1.367      ( 1.185, 2.133)   500       \n",
      "Angle 6      1.053      ( 0.831, 1.786)   400       \n",
      "Angle 7      1.223      ( 0.940, 1.342)   400       \n",
      "Angle 8      0.742      ( 0.639, 0.820)   300       \n",
      "Angle 9      0.675      ( 0.637, 0.741)   300       \n",
      "Dihedral 1   2.915      ( 2.863, 2.969)   100       \n",
      "Dihedral 2   0.461      ( 0.154, 0.750)   100       \n",
      "Dihedral 3   -2.798     (-3.024,-2.593)   200       \n",
      "Dihedral 4   2.759      ( 2.679, 2.837)   200       \n",
      "Dihedral 5   -1.696     (-1.925,-1.320)   400       \n",
      "Dihedral 6   2.290      ( 1.245, 2.600)   400       \n",
      "Dihedral 7   -1.821     (-1.968,-1.623)   300       \n",
      "Dihedral 8   2.925      ( 2.818, 3.009)   300       \n"
     ]
    },
    {
     "ename": "NameError",
     "evalue": "name 'rotaxis' is not defined",
     "output_type": "error",
     "traceback": [
      "\u001b[1;31m---------------------------------------------------------------------------\u001b[0m",
      "\u001b[1;31mNameError\u001b[0m                                 Traceback (most recent call last)",
      "\u001b[1;32m<ipython-input-7-378edb3ce572>\u001b[0m in \u001b[0;36m<module>\u001b[1;34m\u001b[0m\n\u001b[1;32m----> 1\u001b[1;33m \u001b[0mrep\u001b[0m\u001b[1;33m.\u001b[0m\u001b[0mnewprotein\u001b[0m\u001b[1;33m(\u001b[0m\u001b[0mpt\u001b[0m\u001b[1;33m.\u001b[0m\u001b[0mrandprotein\u001b[0m\u001b[1;33m(\u001b[0m\u001b[1;33m)\u001b[0m\u001b[1;33m)\u001b[0m\u001b[1;33m\u001b[0m\u001b[1;33m\u001b[0m\u001b[0m\n\u001b[0m",
      "\u001b[1;32m~\\Documents\\protein\\representations.py\u001b[0m in \u001b[0;36mnewprotein\u001b[1;34m(protein)\u001b[0m\n\u001b[0;32m    619\u001b[0m                                          len(modules))\n\u001b[0;32m    620\u001b[0m     \u001b[1;31m# construct the new protein in 3D space\u001b[0m\u001b[1;33m\u001b[0m\u001b[1;33m\u001b[0m\u001b[1;33m\u001b[0m\u001b[0m\n\u001b[1;32m--> 621\u001b[1;33m     \u001b[0mv\u001b[0m\u001b[1;33m,\u001b[0m\u001b[0mva5\u001b[0m\u001b[1;33m,\u001b[0m\u001b[0mva95\u001b[0m\u001b[1;33m,\u001b[0m\u001b[0mvd5\u001b[0m\u001b[1;33m,\u001b[0m\u001b[0mvd95\u001b[0m \u001b[1;33m=\u001b[0m \u001b[0mprotein_synthesis\u001b[0m\u001b[1;33m(\u001b[0m\u001b[0ml\u001b[0m\u001b[1;33m,\u001b[0m\u001b[0ma\u001b[0m\u001b[1;33m,\u001b[0m\u001b[0md\u001b[0m\u001b[1;33m,\u001b[0m\u001b[0ma5\u001b[0m\u001b[1;33m,\u001b[0m\u001b[0ma95\u001b[0m\u001b[1;33m,\u001b[0m\u001b[0md5\u001b[0m\u001b[1;33m,\u001b[0m\u001b[0md95\u001b[0m\u001b[1;33m)\u001b[0m\u001b[1;33m\u001b[0m\u001b[1;33m\u001b[0m\u001b[0m\n\u001b[0m\u001b[0;32m    622\u001b[0m \u001b[1;33m\u001b[0m\u001b[0m\n\u001b[0;32m    623\u001b[0m     \u001b[1;31m# plot the new protein\u001b[0m\u001b[1;33m\u001b[0m\u001b[1;33m\u001b[0m\u001b[1;33m\u001b[0m\u001b[0m\n",
      "\u001b[1;32m~\\Documents\\protein\\representations.py\u001b[0m in \u001b[0;36mprotein_synthesis\u001b[1;34m(l, t, d, t5, t95, d5, d95)\u001b[0m\n\u001b[0;32m    679\u001b[0m     \u001b[1;31m#rotation matrices for the second vector, rotating about a vector perpendicular to the first vector\u001b[0m\u001b[1;33m\u001b[0m\u001b[1;33m\u001b[0m\u001b[1;33m\u001b[0m\u001b[0m\n\u001b[0;32m    680\u001b[0m     \u001b[1;32mif\u001b[0m \u001b[1;33m(\u001b[0m\u001b[0mt\u001b[0m\u001b[1;33m[\u001b[0m\u001b[1;36m0\u001b[0m\u001b[1;33m]\u001b[0m \u001b[1;33m>=\u001b[0m \u001b[1;36m0\u001b[0m\u001b[1;33m)\u001b[0m\u001b[1;33m:\u001b[0m\u001b[1;33m\u001b[0m\u001b[1;33m\u001b[0m\u001b[0m\n\u001b[1;32m--> 681\u001b[1;33m         \u001b[0mRT\u001b[0m \u001b[1;33m=\u001b[0m \u001b[0mrotaxis\u001b[0m\u001b[1;33m(\u001b[0m\u001b[0mmath\u001b[0m\u001b[1;33m.\u001b[0m\u001b[0mpi\u001b[0m \u001b[1;33m-\u001b[0m \u001b[0mt\u001b[0m\u001b[1;33m[\u001b[0m\u001b[1;36m0\u001b[0m\u001b[1;33m]\u001b[0m\u001b[1;33m,\u001b[0m \u001b[0mVector\u001b[0m\u001b[1;33m(\u001b[0m\u001b[1;36m0\u001b[0m\u001b[1;33m,\u001b[0m \u001b[1;36m1\u001b[0m\u001b[1;33m,\u001b[0m \u001b[1;36m0\u001b[0m\u001b[1;33m)\u001b[0m\u001b[1;33m)\u001b[0m\u001b[1;33m\u001b[0m\u001b[1;33m\u001b[0m\u001b[0m\n\u001b[0m\u001b[0;32m    682\u001b[0m     \u001b[1;32melif\u001b[0m \u001b[1;33m(\u001b[0m\u001b[0mt\u001b[0m\u001b[1;33m[\u001b[0m\u001b[1;36m0\u001b[0m\u001b[1;33m]\u001b[0m \u001b[1;33m<\u001b[0m \u001b[1;36m0\u001b[0m\u001b[1;33m)\u001b[0m\u001b[1;33m:\u001b[0m\u001b[1;33m\u001b[0m\u001b[1;33m\u001b[0m\u001b[0m\n\u001b[0;32m    683\u001b[0m         \u001b[0mRT\u001b[0m \u001b[1;33m=\u001b[0m \u001b[0mrotaxis\u001b[0m\u001b[1;33m(\u001b[0m\u001b[1;33m-\u001b[0m\u001b[1;33m(\u001b[0m\u001b[0mmath\u001b[0m\u001b[1;33m.\u001b[0m\u001b[0mpi\u001b[0m \u001b[1;33m-\u001b[0m \u001b[0mt\u001b[0m\u001b[1;33m[\u001b[0m\u001b[1;36m0\u001b[0m\u001b[1;33m]\u001b[0m\u001b[1;33m)\u001b[0m\u001b[1;33m,\u001b[0m \u001b[0mVector\u001b[0m\u001b[1;33m(\u001b[0m\u001b[1;36m0\u001b[0m\u001b[1;33m,\u001b[0m \u001b[1;36m1\u001b[0m\u001b[1;33m,\u001b[0m \u001b[1;36m0\u001b[0m\u001b[1;33m)\u001b[0m\u001b[1;33m)\u001b[0m\u001b[1;33m\u001b[0m\u001b[1;33m\u001b[0m\u001b[0m\n",
      "\u001b[1;31mNameError\u001b[0m: name 'rotaxis' is not defined"
     ]
    }
   ],
   "source": [
    "rep.newprotein(pt.randprotein())"
   ]
  },
  {
   "cell_type": "code",
   "execution_count": null,
   "metadata": {},
   "outputs": [],
   "source": []
  }
 ],
 "metadata": {
  "kernelspec": {
   "display_name": "Python 3",
   "language": "python",
   "name": "python3"
  },
  "language_info": {
   "codemirror_mode": {
    "name": "ipython",
    "version": 3
   },
   "file_extension": ".py",
   "mimetype": "text/x-python",
   "name": "python",
   "nbconvert_exporter": "python",
   "pygments_lexer": "ipython3",
   "version": "3.7.1"
  }
 },
 "nbformat": 4,
 "nbformat_minor": 2
}
